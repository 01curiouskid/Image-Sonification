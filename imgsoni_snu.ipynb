{
  "nbformat": 4,
  "nbformat_minor": 0,
  "metadata": {
    "colab": {
      "provenance": []
    },
    "kernelspec": {
      "name": "python3",
      "display_name": "Python 3"
    },
    "language_info": {
      "name": "python"
    }
  },
  "cells": [
    {
      "cell_type": "code",
      "source": [
        "!pip install AudioSegment"
      ],
      "metadata": {
        "colab": {
          "base_uri": "https://localhost:8080/"
        },
        "id": "JNZRPHik197O",
        "outputId": "c155a147-6bd1-4369-f889-839b4a47770a"
      },
      "execution_count": 2,
      "outputs": [
        {
          "output_type": "stream",
          "name": "stdout",
          "text": [
            "Collecting AudioSegment\n",
            "  Downloading audiosegment-0.23.0-py3-none-any.whl (34 kB)\n",
            "Collecting pydub (from AudioSegment)\n",
            "  Downloading pydub-0.25.1-py2.py3-none-any.whl (32 kB)\n",
            "Collecting webrtcvad (from AudioSegment)\n",
            "  Downloading webrtcvad-2.0.10.tar.gz (66 kB)\n",
            "\u001b[2K     \u001b[90m━━━━━━━━━━━━━━━━━━━━━━━━━━━━━━━━━━━━━━━━\u001b[0m \u001b[32m66.2/66.2 kB\u001b[0m \u001b[31m6.9 MB/s\u001b[0m eta \u001b[36m0:00:00\u001b[0m\n",
            "\u001b[?25h  Preparing metadata (setup.py) ... \u001b[?25l\u001b[?25hdone\n",
            "Requirement already satisfied: numpy in /usr/local/lib/python3.10/dist-packages (from AudioSegment) (1.23.5)\n",
            "Building wheels for collected packages: webrtcvad\n",
            "  Building wheel for webrtcvad (setup.py) ... \u001b[?25l\u001b[?25hdone\n",
            "  Created wheel for webrtcvad: filename=webrtcvad-2.0.10-cp310-cp310-linux_x86_64.whl size=73463 sha256=4ddf5c10bd92741f130d02d497d0a52bcd621ae6f4ba0388255762c8b09d07c5\n",
            "  Stored in directory: /root/.cache/pip/wheels/2a/2b/84/ac7bacfe8c68a87c1ee3dd3c66818a54c71599abf308e8eb35\n",
            "Successfully built webrtcvad\n",
            "Installing collected packages: webrtcvad, pydub, AudioSegment\n",
            "Successfully installed AudioSegment-0.23.0 pydub-0.25.1 webrtcvad-2.0.10\n"
          ]
        }
      ]
    },
    {
      "cell_type": "code",
      "source": [
        "!pip install simpleaudio"
      ],
      "metadata": {
        "colab": {
          "base_uri": "https://localhost:8080/"
        },
        "id": "oicGWokr3Rj1",
        "outputId": "b3edc097-1de7-420b-9285-445120f0cc59"
      },
      "execution_count": 10,
      "outputs": [
        {
          "output_type": "stream",
          "name": "stdout",
          "text": [
            "Collecting simpleaudio\n",
            "  Downloading simpleaudio-1.0.4.tar.gz (2.0 MB)\n",
            "\u001b[?25l     \u001b[90m━━━━━━━━━━━━━━━━━━━━━━━━━━━━━━━━━━━━━━━━\u001b[0m \u001b[32m0.0/2.0 MB\u001b[0m \u001b[31m?\u001b[0m eta \u001b[36m-:--:--\u001b[0m\r\u001b[2K     \u001b[91m━━━\u001b[0m\u001b[90m╺\u001b[0m\u001b[90m━━━━━━━━━━━━━━━━━━━━━━━━━━━━━━━━━━━━\u001b[0m \u001b[32m0.2/2.0 MB\u001b[0m \u001b[31m4.4 MB/s\u001b[0m eta \u001b[36m0:00:01\u001b[0m\r\u001b[2K     \u001b[91m━━━━━━━━━━━━━━━━━━━━━━━━━━━━━\u001b[0m\u001b[91m╸\u001b[0m\u001b[90m━━━━━━━━━━\u001b[0m \u001b[32m1.5/2.0 MB\u001b[0m \u001b[31m22.2 MB/s\u001b[0m eta \u001b[36m0:00:01\u001b[0m\r\u001b[2K     \u001b[90m━━━━━━━━━━━━━━━━━━━━━━━━━━━━━━━━━━━━━━━━\u001b[0m \u001b[32m2.0/2.0 MB\u001b[0m \u001b[31m23.5 MB/s\u001b[0m eta \u001b[36m0:00:00\u001b[0m\n",
            "\u001b[?25h  Preparing metadata (setup.py) ... \u001b[?25l\u001b[?25hdone\n",
            "Building wheels for collected packages: simpleaudio\n",
            "  Building wheel for simpleaudio (setup.py) ... \u001b[?25l\u001b[?25hdone\n",
            "  Created wheel for simpleaudio: filename=simpleaudio-1.0.4-cp310-cp310-linux_x86_64.whl size=2054401 sha256=74fb8eb8c0d84aca644c4e0b7b059afad582d562414a0882f74478581a81aab0\n",
            "  Stored in directory: /root/.cache/pip/wheels/10/70/ed/8c41675109565c2c65c3ac40d20859fc9d3f93a8efbb11d1c7\n",
            "Successfully built simpleaudio\n",
            "Installing collected packages: simpleaudio\n",
            "Successfully installed simpleaudio-1.0.4\n"
          ]
        }
      ]
    },
    {
      "cell_type": "code",
      "source": [
        "!pip install pydub"
      ],
      "metadata": {
        "colab": {
          "base_uri": "https://localhost:8080/"
        },
        "id": "7LDtYa2S2G6L",
        "outputId": "68bd02b7-1c23-45bf-b275-104f5a523b7f"
      },
      "execution_count": 4,
      "outputs": [
        {
          "output_type": "stream",
          "name": "stdout",
          "text": [
            "Requirement already satisfied: pydub in /usr/local/lib/python3.10/dist-packages (0.25.1)\n"
          ]
        }
      ]
    },
    {
      "cell_type": "code",
      "source": [
        "import cv2\n",
        "import numpy as np\n",
        "from pydub import AudioSegment\n",
        "from pydub.generators import Sine"
      ],
      "metadata": {
        "id": "AhVPHR152Saq"
      },
      "execution_count": 8,
      "outputs": []
    },
    {
      "cell_type": "code",
      "source": [
        "img=cv2.imread(\"image.jpg\")\n",
        "print(img.shape)\n",
        "print(len(img))\n",
        "print(img[34])"
      ],
      "metadata": {
        "colab": {
          "base_uri": "https://localhost:8080/"
        },
        "id": "uQBfsEr12Uhl",
        "outputId": "b6a83920-c166-4e67-dd44-2f870ceecfff"
      },
      "execution_count": 9,
      "outputs": [
        {
          "output_type": "stream",
          "name": "stdout",
          "text": [
            "(4452, 2974, 3)\n",
            "4452\n",
            "[[47 53 58]\n",
            " [45 51 56]\n",
            " [43 52 56]\n",
            " ...\n",
            " [42 46 51]\n",
            " [28 32 37]\n",
            " [ 0  4  9]]\n"
          ]
        }
      ]
    },
    {
      "cell_type": "code",
      "source": [
        "def mat_avg(arr):\n",
        "    sum=0\n",
        "    for i in arr:\n",
        "        sum+=i\n",
        "    return (int(sum/len(arr)))"
      ],
      "metadata": {
        "id": "Pa3Bnt-m2uJY"
      },
      "execution_count": 10,
      "outputs": []
    },
    {
      "cell_type": "code",
      "source": [
        "import numpy as np\n",
        "import simpleaudio as sa\n",
        "import matplotlib.pyplot as plt\n",
        "\n",
        "frequency = 700  # Our played note will be 440 Hz\n",
        "fs = 110335  # 44100 samples per second\n",
        "seconds = 120  # Note duration of 3 seconds\n",
        "\n",
        "t = np.linspace(0, seconds, seconds * fs, False)\n",
        "\n",
        "note=np.sin(frequency*t*2*np.pi)\n",
        "\n",
        "x=[]\n",
        "for i in range (4452):\n",
        "    for j in range (2974):\n",
        "        if(i==4451 and j==2926):\n",
        "          break\n",
        "        x.append(mat_avg(img[i][j]))\n",
        "\n",
        "x_1=np.array(x)\n",
        "# print(len(x_1))\n",
        "# print(len(note))\n",
        "\n",
        "note_1=np.multiply(x_1,note)\n",
        "\n",
        "audio = note_1 * (2**15 - 1) / np.max(np.abs(note_1))\n",
        "\n",
        "plt.xlim(0,0.01)\n",
        "plt.plot(t,note_1)\n",
        "plt.title (\"SINE WAVE\")\n",
        "\n",
        "# play_obj = sa.play_buffer(audio, 1, 2, fs)\n",
        "# play_obj.wait_done()\n"
      ],
      "metadata": {
        "colab": {
          "base_uri": "https://localhost:8080/",
          "height": 784
        },
        "id": "Bjf_8Nn73CUA",
        "outputId": "5fb1fb4c-ebac-4780-e20a-460d2679de93"
      },
      "execution_count": 19,
      "outputs": [
        {
          "output_type": "error",
          "ename": "ValueError",
          "evalue": "ignored",
          "traceback": [
            "\u001b[0;31m---------------------------------------------------------------------------\u001b[0m",
            "\u001b[0;31mValueError\u001b[0m                                Traceback (most recent call last)",
            "\u001b[0;32m<ipython-input-19-19bdd1bc3c8e>\u001b[0m in \u001b[0;36m<cell line: 34>\u001b[0;34m()\u001b[0m\n\u001b[1;32m     32\u001b[0m \u001b[0mplt\u001b[0m\u001b[0;34m.\u001b[0m\u001b[0mtitle\u001b[0m \u001b[0;34m(\u001b[0m\u001b[0;34m\"SINE WAVE\"\u001b[0m\u001b[0;34m)\u001b[0m\u001b[0;34m\u001b[0m\u001b[0;34m\u001b[0m\u001b[0m\n\u001b[1;32m     33\u001b[0m \u001b[0;34m\u001b[0m\u001b[0m\n\u001b[0;32m---> 34\u001b[0;31m \u001b[0mplay_obj\u001b[0m \u001b[0;34m=\u001b[0m \u001b[0msa\u001b[0m\u001b[0;34m.\u001b[0m\u001b[0mplay_buffer\u001b[0m\u001b[0;34m(\u001b[0m\u001b[0maudio\u001b[0m\u001b[0;34m,\u001b[0m \u001b[0;36m1\u001b[0m\u001b[0;34m,\u001b[0m \u001b[0;36m2\u001b[0m\u001b[0;34m,\u001b[0m \u001b[0mfs\u001b[0m\u001b[0;34m)\u001b[0m\u001b[0;34m\u001b[0m\u001b[0;34m\u001b[0m\u001b[0m\n\u001b[0m\u001b[1;32m     35\u001b[0m \u001b[0mplay_obj\u001b[0m\u001b[0;34m.\u001b[0m\u001b[0mwait_done\u001b[0m\u001b[0;34m(\u001b[0m\u001b[0;34m)\u001b[0m\u001b[0;34m\u001b[0m\u001b[0;34m\u001b[0m\u001b[0m\n",
            "\u001b[0;32m/usr/local/lib/python3.10/dist-packages/simpleaudio/shiny.py\u001b[0m in \u001b[0;36mplay_buffer\u001b[0;34m(audio_data, num_channels, bytes_per_sample, sample_rate)\u001b[0m\n\u001b[1;32m     58\u001b[0m \u001b[0;34m\u001b[0m\u001b[0m\n\u001b[1;32m     59\u001b[0m \u001b[0;32mdef\u001b[0m \u001b[0mplay_buffer\u001b[0m\u001b[0;34m(\u001b[0m\u001b[0maudio_data\u001b[0m\u001b[0;34m,\u001b[0m \u001b[0mnum_channels\u001b[0m\u001b[0;34m,\u001b[0m \u001b[0mbytes_per_sample\u001b[0m\u001b[0;34m,\u001b[0m \u001b[0msample_rate\u001b[0m\u001b[0;34m)\u001b[0m\u001b[0;34m:\u001b[0m\u001b[0;34m\u001b[0m\u001b[0;34m\u001b[0m\u001b[0m\n\u001b[0;32m---> 60\u001b[0;31m     play_id = _sa._play_buffer(audio_data, num_channels, bytes_per_sample,\n\u001b[0m\u001b[1;32m     61\u001b[0m                                sample_rate)\n\u001b[1;32m     62\u001b[0m     \u001b[0;32mreturn\u001b[0m \u001b[0mPlayObject\u001b[0m\u001b[0;34m(\u001b[0m\u001b[0mplay_id\u001b[0m\u001b[0;34m)\u001b[0m\u001b[0;34m\u001b[0m\u001b[0;34m\u001b[0m\u001b[0m\n",
            "\u001b[0;31mValueError\u001b[0m: Weird sample rates are not supported."
          ]
        },
        {
          "output_type": "display_data",
          "data": {
            "text/plain": [
              "<Figure size 640x480 with 1 Axes>"
            ],
            "image/png": "[encoded data removed]"
          },
          "metadata": {}
        }
      ]
    },
    {
      "cell_type": "code",
      "source": [],
      "metadata": {
        "id": "l-P3A-PZ5SJo"
      },
      "execution_count": null,
      "outputs": []
    }
  ]
}